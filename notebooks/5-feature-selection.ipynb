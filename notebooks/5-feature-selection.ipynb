{
 "cells": [
  {
   "cell_type": "code",
   "execution_count": 4,
   "metadata": {},
   "outputs": [],
   "source": [
    "import pandas as pd\n",
    "from sklearn import preprocessing\n",
    "import matplotlib.pyplot as plt"
   ]
  },
  {
   "cell_type": "code",
   "execution_count": 5,
   "metadata": {},
   "outputs": [
    {
     "data": {
      "text/html": [
       "<div>\n",
       "<style scoped>\n",
       "    .dataframe tbody tr th:only-of-type {\n",
       "        vertical-align: middle;\n",
       "    }\n",
       "\n",
       "    .dataframe tbody tr th {\n",
       "        vertical-align: top;\n",
       "    }\n",
       "\n",
       "    .dataframe thead th {\n",
       "        text-align: right;\n",
       "    }\n",
       "</style>\n",
       "<table border=\"1\" class=\"dataframe\">\n",
       "  <thead>\n",
       "    <tr style=\"text-align: right;\">\n",
       "      <th></th>\n",
       "      <th>vote_19001</th>\n",
       "      <th>vote_19002</th>\n",
       "      <th>vote_19003</th>\n",
       "      <th>vote_19004</th>\n",
       "      <th>vote_19005</th>\n",
       "      <th>vote_19006</th>\n",
       "      <th>vote_19007</th>\n",
       "      <th>vote_19008</th>\n",
       "      <th>vote_19009</th>\n",
       "      <th>vote_19010</th>\n",
       "      <th>...</th>\n",
       "      <th>vote_19236</th>\n",
       "      <th>vote_19237</th>\n",
       "      <th>vote_19238</th>\n",
       "      <th>vote_19239</th>\n",
       "      <th>vote_19240</th>\n",
       "      <th>vote_19241</th>\n",
       "      <th>vote_19242</th>\n",
       "      <th>vote_19243</th>\n",
       "      <th>vote_19244</th>\n",
       "      <th>party</th>\n",
       "    </tr>\n",
       "  </thead>\n",
       "  <tbody>\n",
       "    <tr>\n",
       "      <th>0</th>\n",
       "      <td>1.0</td>\n",
       "      <td>1.0</td>\n",
       "      <td>1.0</td>\n",
       "      <td>1.0</td>\n",
       "      <td>1.0</td>\n",
       "      <td>1.0</td>\n",
       "      <td>1.0</td>\n",
       "      <td>1.0</td>\n",
       "      <td>0.0</td>\n",
       "      <td>0.0</td>\n",
       "      <td>...</td>\n",
       "      <td>1.0</td>\n",
       "      <td>1.0</td>\n",
       "      <td>1.0</td>\n",
       "      <td>1.0</td>\n",
       "      <td>1.0</td>\n",
       "      <td>0.0</td>\n",
       "      <td>1.0</td>\n",
       "      <td>1.0</td>\n",
       "      <td>1.0</td>\n",
       "      <td>CDU/CSU</td>\n",
       "    </tr>\n",
       "    <tr>\n",
       "      <th>1</th>\n",
       "      <td>1.0</td>\n",
       "      <td>1.0</td>\n",
       "      <td>1.0</td>\n",
       "      <td>1.0</td>\n",
       "      <td>1.0</td>\n",
       "      <td>1.0</td>\n",
       "      <td>1.0</td>\n",
       "      <td>1.0</td>\n",
       "      <td>0.0</td>\n",
       "      <td>0.0</td>\n",
       "      <td>...</td>\n",
       "      <td>1.0</td>\n",
       "      <td>1.0</td>\n",
       "      <td>1.0</td>\n",
       "      <td>1.0</td>\n",
       "      <td>1.0</td>\n",
       "      <td>0.0</td>\n",
       "      <td>1.0</td>\n",
       "      <td>1.0</td>\n",
       "      <td>1.0</td>\n",
       "      <td>SPD</td>\n",
       "    </tr>\n",
       "    <tr>\n",
       "      <th>2</th>\n",
       "      <td>0.0</td>\n",
       "      <td>0.0</td>\n",
       "      <td>0.0</td>\n",
       "      <td>0.0</td>\n",
       "      <td>0.0</td>\n",
       "      <td>0.0</td>\n",
       "      <td>0.0</td>\n",
       "      <td>0.0</td>\n",
       "      <td>1.0</td>\n",
       "      <td>0.0</td>\n",
       "      <td>...</td>\n",
       "      <td>0.0</td>\n",
       "      <td>0.0</td>\n",
       "      <td>0.0</td>\n",
       "      <td>0.0</td>\n",
       "      <td>0.0</td>\n",
       "      <td>0.0</td>\n",
       "      <td>0.5</td>\n",
       "      <td>0.0</td>\n",
       "      <td>0.0</td>\n",
       "      <td>Linke</td>\n",
       "    </tr>\n",
       "    <tr>\n",
       "      <th>3</th>\n",
       "      <td>1.0</td>\n",
       "      <td>1.0</td>\n",
       "      <td>1.0</td>\n",
       "      <td>1.0</td>\n",
       "      <td>1.0</td>\n",
       "      <td>1.0</td>\n",
       "      <td>1.0</td>\n",
       "      <td>1.0</td>\n",
       "      <td>0.0</td>\n",
       "      <td>0.0</td>\n",
       "      <td>...</td>\n",
       "      <td>1.0</td>\n",
       "      <td>1.0</td>\n",
       "      <td>1.0</td>\n",
       "      <td>1.0</td>\n",
       "      <td>1.0</td>\n",
       "      <td>0.0</td>\n",
       "      <td>1.0</td>\n",
       "      <td>1.0</td>\n",
       "      <td>1.0</td>\n",
       "      <td>CDU/CSU</td>\n",
       "    </tr>\n",
       "    <tr>\n",
       "      <th>4</th>\n",
       "      <td>0.0</td>\n",
       "      <td>0.0</td>\n",
       "      <td>0.0</td>\n",
       "      <td>0.0</td>\n",
       "      <td>0.0</td>\n",
       "      <td>0.0</td>\n",
       "      <td>0.0</td>\n",
       "      <td>0.0</td>\n",
       "      <td>1.0</td>\n",
       "      <td>0.0</td>\n",
       "      <td>...</td>\n",
       "      <td>0.0</td>\n",
       "      <td>0.0</td>\n",
       "      <td>0.0</td>\n",
       "      <td>0.0</td>\n",
       "      <td>0.0</td>\n",
       "      <td>0.0</td>\n",
       "      <td>0.5</td>\n",
       "      <td>0.0</td>\n",
       "      <td>0.0</td>\n",
       "      <td>Linke</td>\n",
       "    </tr>\n",
       "  </tbody>\n",
       "</table>\n",
       "<p>5 rows × 245 columns</p>\n",
       "</div>"
      ],
      "text/plain": [
       "   vote_19001  vote_19002  vote_19003  vote_19004  vote_19005  vote_19006  \\\n",
       "0         1.0         1.0         1.0         1.0         1.0         1.0   \n",
       "1         1.0         1.0         1.0         1.0         1.0         1.0   \n",
       "2         0.0         0.0         0.0         0.0         0.0         0.0   \n",
       "3         1.0         1.0         1.0         1.0         1.0         1.0   \n",
       "4         0.0         0.0         0.0         0.0         0.0         0.0   \n",
       "\n",
       "   vote_19007  vote_19008  vote_19009  vote_19010  ...  vote_19236  \\\n",
       "0         1.0         1.0         0.0         0.0  ...         1.0   \n",
       "1         1.0         1.0         0.0         0.0  ...         1.0   \n",
       "2         0.0         0.0         1.0         0.0  ...         0.0   \n",
       "3         1.0         1.0         0.0         0.0  ...         1.0   \n",
       "4         0.0         0.0         1.0         0.0  ...         0.0   \n",
       "\n",
       "   vote_19237  vote_19238  vote_19239  vote_19240  vote_19241  vote_19242  \\\n",
       "0         1.0         1.0         1.0         1.0         0.0         1.0   \n",
       "1         1.0         1.0         1.0         1.0         0.0         1.0   \n",
       "2         0.0         0.0         0.0         0.0         0.0         0.5   \n",
       "3         1.0         1.0         1.0         1.0         0.0         1.0   \n",
       "4         0.0         0.0         0.0         0.0         0.0         0.5   \n",
       "\n",
       "   vote_19243  vote_19244    party  \n",
       "0         1.0         1.0  CDU/CSU  \n",
       "1         1.0         1.0      SPD  \n",
       "2         0.0         0.0    Linke  \n",
       "3         1.0         1.0  CDU/CSU  \n",
       "4         0.0         0.0    Linke  \n",
       "\n",
       "[5 rows x 245 columns]"
      ]
     },
     "execution_count": 5,
     "metadata": {},
     "output_type": "execute_result"
    }
   ],
   "source": [
    "btvote = pd.read_pickle('../data/btvote_imputed.pkl')\n",
    "btvote.head()"
   ]
  },
  {
   "cell_type": "markdown",
   "metadata": {},
   "source": [
    "# Split data and encode target variable"
   ]
  },
  {
   "cell_type": "code",
   "execution_count": 6,
   "metadata": {},
   "outputs": [],
   "source": [
    "# Split dataframe in 'data' and 'target'\n",
    "btvote_data = btvote.drop('party', axis=1)\n",
    "btvote_target = btvote['party']\n",
    "\n",
    "# Encode the target variable\n",
    "label_encoder = preprocessing.LabelEncoder()\n",
    "btvote_target = label_encoder.fit_transform(btvote_target)"
   ]
  },
  {
   "cell_type": "markdown",
   "metadata": {},
   "source": [
    "# Setup cross validation"
   ]
  },
  {
   "cell_type": "code",
   "execution_count": 7,
   "metadata": {},
   "outputs": [],
   "source": [
    "from sklearn.model_selection import StratifiedKFold\n",
    "from sklearn.metrics import f1_score, make_scorer\n",
    "\n",
    "# specify the cross validation\n",
    "stratified_10_fold_cv = StratifiedKFold(n_splits=10, shuffle=True, random_state=42)\n",
    "\n",
    "# define the scoring function\n",
    "# Note: We use 'macro' as average as we want to evaluate the performance of each class equally, regardless of the class size\n",
    "f1 = make_scorer(f1_score, average='macro')"
   ]
  },
  {
   "cell_type": "markdown",
   "metadata": {},
   "source": [
    "# RandomForestClassifier"
   ]
  },
  {
   "cell_type": "markdown",
   "metadata": {},
   "source": [
    "## Feature importance analysis"
   ]
  },
  {
   "cell_type": "code",
   "execution_count": 8,
   "metadata": {},
   "outputs": [
    {
     "name": "stdout",
     "output_type": "stream",
     "text": [
      "{'vote_19182': 0.024387607720631383, 'vote_19200': 0.02410030405294585, 'vote_19031': 0.024066191025715642, 'vote_19040': 0.023733179625468, 'vote_19106': 0.02290801270546039, 'vote_19142': 0.018124233493973272, 'vote_19179': 0.015614570030615782, 'vote_19048': 0.015141831294578136, 'vote_19221': 0.014568365598393909, 'vote_19070': 0.013606166215372341, 'vote_19236': 0.013363286347017509, 'vote_19194': 0.013307193651381935, 'vote_19051': 0.01262247056279154, 'vote_19149': 0.012588277567342833, 'vote_19237': 0.012487284937641247, 'vote_19118': 0.012289897209104532, 'vote_19219': 0.0120916697051383, 'vote_19162': 0.012087556305921867, 'vote_19134': 0.011931046926513577, 'vote_19057': 0.011770382317465944, 'vote_19198': 0.011760886878361536, 'vote_19135': 0.011726082822933671, 'vote_19085': 0.011708485637682434, 'vote_19066': 0.011590918623402358, 'vote_19096': 0.010909908568943518, 'vote_19067': 0.010682476658182847, 'vote_19054': 0.01057836373953616, 'vote_19185': 0.010508717899234361, 'vote_19150': 0.010346239579696683, 'vote_19011': 0.010279800457388017, 'vote_19047': 0.010132763658370784, 'vote_19002': 0.009944015100529738, 'vote_19036': 0.009113922304411834, 'vote_19060': 0.009023198578075335, 'vote_19112': 0.008798711369027355, 'vote_19103': 0.008523048379351696, 'vote_19216': 0.008480372488430206, 'vote_19207': 0.008152955292954128, 'vote_19046': 0.008078218327876481, 'vote_19145': 0.00778439670225787, 'vote_19222': 0.0076973974699592294, 'vote_19108': 0.0075664316770300815, 'vote_19061': 0.0075395150907326125, 'vote_19078': 0.007485842924361236, 'vote_19243': 0.007445234493398164, 'vote_19148': 0.007319253714495835, 'vote_19063': 0.007268162265610093, 'vote_19086': 0.007262745363910825, 'vote_19187': 0.00725168362244354, 'vote_19240': 0.007189047037423158, 'vote_19001': 0.007129998471100282, 'vote_19100': 0.007129552428037555, 'vote_19062': 0.0071228292635926015, 'vote_19137': 0.007077003726503213, 'vote_19065': 0.006889382363896465, 'vote_19147': 0.006842232304862986, 'vote_19122': 0.006804086795759552, 'vote_19209': 0.00677882955174088, 'vote_19090': 0.006687906659548568, 'vote_19072': 0.0065902392705973695, 'vote_19152': 0.006505631274138664, 'vote_19101': 0.0064576366863181, 'vote_19218': 0.006404194648170821, 'vote_19020': 0.006323969780705596, 'vote_19097': 0.0061361675092759535, 'vote_19239': 0.006049775960237159, 'vote_19058': 0.005984979612759472, 'vote_19110': 0.005978557903562884, 'vote_19081': 0.005967982979810255, 'vote_19195': 0.005931423463076985, 'vote_19180': 0.0058981693678793945, 'vote_19105': 0.005813692896336333, 'vote_19125': 0.005774268473633005, 'vote_19138': 0.005761215612136613, 'vote_19042': 0.0056049513640400615, 'vote_19102': 0.005538398154312729, 'vote_19076': 0.005474719411255925, 'vote_19206': 0.005262525474899946, 'vote_19186': 0.004681771416739479, 'vote_19235': 0.004447144815102571, 'vote_19099': 0.004376328769350814, 'vote_19220': 0.004281075303666786, 'vote_19231': 0.004139476403913998, 'vote_19115': 0.004086927609722636, 'vote_19130': 0.003974414133763087, 'vote_19224': 0.003966905632077099, 'vote_19133': 0.003953849583741173, 'vote_19234': 0.003912463387511498, 'vote_19049': 0.0038929743806437184, 'vote_19210': 0.0038813714629951394, 'vote_19029': 0.00384279266771637, 'vote_19136': 0.0038262493737696705, 'vote_19171': 0.0038119165950509914, 'vote_19131': 0.003790935088512316, 'vote_19146': 0.00375028223138982, 'vote_19018': 0.0037246930028655965, 'vote_19045': 0.003641783898760055, 'vote_19124': 0.0035997059880233423, 'vote_19123': 0.0035743712743711025, 'vote_19143': 0.0035536586577730625, 'vote_19064': 0.0035517856504895, 'vote_19038': 0.0035092639793236225, 'vote_19223': 0.0034913449902768618, 'vote_19139': 0.0034756405490560466, 'vote_19012': 0.0034707376262024746, 'vote_19199': 0.0034600082106422837, 'vote_19092': 0.00345169415240097, 'vote_19032': 0.0034318497750777666, 'vote_19141': 0.003407601199670524, 'vote_19055': 0.0034069562615580595, 'vote_19127': 0.0033598215307595277, 'vote_19128': 0.003332407566678624, 'vote_19168': 0.0033107665071390384, 'vote_19007': 0.0032968906196758747, 'vote_19013': 0.003251481819710539, 'vote_19033': 0.0032392370899664213, 'vote_19144': 0.0031791092804286875, 'vote_19004': 0.003179019352898264, 'vote_19053': 0.003112620435048553, 'vote_19109': 0.0030759616512108464, 'vote_19188': 0.0030521129620096573, 'vote_19140': 0.00302919527801623, 'vote_19120': 0.003023769857462773, 'vote_19238': 0.003010500335866049, 'vote_19166': 0.0030039086605965874, 'vote_19077': 0.002973348444516169, 'vote_19003': 0.0029139861370936853, 'vote_19117': 0.002857847714716943, 'vote_19225': 0.002849499287709406, 'vote_19017': 0.0028157562366006523, 'vote_19015': 0.0027954466398745653, 'vote_19151': 0.0020772615572437142, 'vote_19154': 0.002052581189513037, 'vote_19178': 0.0019723870521806707, 'vote_19160': 0.001720706994846236, 'vote_19173': 0.0015864644072186651, 'vote_19230': 0.001518072899126026, 'vote_19208': 0.0015172932593088238, 'vote_19159': 0.001474988480118063, 'vote_19183': 0.001472356850065689, 'vote_19030': 0.0014510896087796587, 'vote_19075': 0.0013950628840273679, 'vote_19233': 0.0013754425029258463, 'vote_19228': 0.0013160842868716852, 'vote_19111': 0.0012361072224138466, 'vote_19074': 0.0011354451036024098, 'vote_19177': 0.0011083268246014656, 'vote_19056': 0.0010939895388591093, 'vote_19226': 0.0010859601123391616, 'vote_19174': 0.0010797461713202808, 'vote_19129': 0.001072190863064246, 'vote_19008': 0.0010412563101613462, 'vote_19244': 0.000989650912955567, 'vote_19155': 0.0009316479938520759, 'vote_19027': 0.0008171583879755747, 'vote_19116': 0.0008147633166087882, 'vote_19205': 0.0007838680525034903, 'vote_19132': 0.000711012579175237, 'vote_19059': 0.0007025824131269011, 'vote_19229': 0.0006800341793208489, 'vote_19088': 0.0006766519271000738, 'vote_19084': 0.000607810455299155, 'vote_19172': 0.0005307417319411331, 'vote_19227': 0.0005102118405451612, 'vote_19039': 0.0004869715884038549, 'vote_19204': 0.000454101380505151, 'vote_19014': 0.00045013566555400015, 'vote_19213': 0.00042791389656318316, 'vote_19093': 0.00039311376098726626, 'vote_19212': 0.00038749821738944613, 'vote_19197': 0.0003691370398277179, 'vote_19165': 0.00031924011144107424, 'vote_19037': 0.0003166921970326842, 'vote_19079': 0.00030144043317772854, 'vote_19114': 0.0002564945276748986, 'vote_19052': 0.00018459173327032316, 'vote_19156': 0.00018073985871794646, 'vote_19019': 0.00016629650227928335, 'vote_19190': 0.00015407872677869136, 'vote_19098': 0.0001539576972827303, 'vote_19181': 0.00014961399823877397, 'vote_19158': 0.00014327630671835708, 'vote_19119': 0.00014061587918956893, 'vote_19161': 0.00013330632129454257, 'vote_19095': 0.00013105105228483554, 'vote_19232': 0.00010712422759294957, 'vote_19211': 0.00010614126161827012, 'vote_19091': 9.818663097096231e-05, 'vote_19034': 8.906741524162047e-05, 'vote_19217': 8.625257158940989e-05, 'vote_19170': 7.880415522760468e-05, 'vote_19009': 6.99512129585764e-05, 'vote_19094': 6.116775184715484e-05, 'vote_19193': 5.7021538427111295e-05, 'vote_19107': 4.5829847416669644e-05, 'vote_19164': 2.9916798195276394e-05, 'vote_19005': 1.7334664466101208e-05, 'vote_19214': 8.667040411613985e-06, 'vote_19189': 7.494385977450004e-06, 'vote_19073': 6.696384782247983e-06, 'vote_19163': 1.8224018610433185e-06, 'vote_19006': 0.0, 'vote_19010': 0.0, 'vote_19016': 0.0, 'vote_19021': 0.0, 'vote_19022': 0.0, 'vote_19023': 0.0, 'vote_19024': 0.0, 'vote_19025': 0.0, 'vote_19026': 0.0, 'vote_19028': 0.0, 'vote_19035': 0.0, 'vote_19041': 0.0, 'vote_19043': 0.0, 'vote_19044': 0.0, 'vote_19050': 0.0, 'vote_19068': 0.0, 'vote_19069': 0.0, 'vote_19071': 0.0, 'vote_19080': 0.0, 'vote_19082': 0.0, 'vote_19083': 0.0, 'vote_19087': 0.0, 'vote_19089': 0.0, 'vote_19104': 0.0, 'vote_19113': 0.0, 'vote_19121': 0.0, 'vote_19126': 0.0, 'vote_19153': 0.0, 'vote_19157': 0.0, 'vote_19167': 0.0, 'vote_19169': 0.0, 'vote_19175': 0.0, 'vote_19176': 0.0, 'vote_19184': 0.0, 'vote_19191': 0.0, 'vote_19192': 0.0, 'vote_19196': 0.0, 'vote_19201': 0.0, 'vote_19202': 0.0, 'vote_19203': 0.0, 'vote_19215': 0.0, 'vote_19241': 0.0, 'vote_19242': 0.0}\n"
     ]
    }
   ],
   "source": [
    "from sklearn.ensemble import RandomForestClassifier\n",
    "\n",
    "# initialize DecisionTreeClassifier\n",
    "rf_classifier = RandomForestClassifier(criterion='gini', n_estimators=50, max_depth=40, random_state=42)\n",
    "\n",
    "# fit the classifier on data\n",
    "rf_classifier.fit(btvote_data, btvote_target)\n",
    "\n",
    "# get feature importances\n",
    "feature_importances = rf_classifier.feature_importances_\n",
    "\n",
    "# convert to dictionary and sort by importance\n",
    "rf_feature_importance_dict = {btvote_data.columns[i]: feature_importances[i] for i in range(len(feature_importances))}\n",
    "rf_sorted_dict = dict(sorted(rf_feature_importance_dict.items(), key=lambda item: item[1], reverse=True))\n",
    "rf_values = [y for _, y in rf_sorted_dict.items()]\n",
    "\n",
    "# Display feature importances\n",
    "print({x:y for x, y in rf_sorted_dict.items()})"
   ]
  },
  {
   "cell_type": "code",
   "execution_count": 9,
   "metadata": {},
   "outputs": [
    {
     "data": {
      "image/png": "[encoded data removed]",
      "text/plain": [
       "<Figure size 640x480 with 2 Axes>"
      ]
     },
     "metadata": {},
     "output_type": "display_data"
    }
   ],
   "source": [
    "# Plot the feature importance\n",
    "fig, ax1 = plt.subplots()\n",
    "ax2 = ax1.twinx()\n",
    "\n",
    "# plot sorted feature importance values\n",
    "ax1.plot(rf_values, color='#0072B2')\n",
    "\n",
    "# calculate and plot cumulative values\n",
    "rf_cumulative_values = []\n",
    "cumulative_sum = 0.0\n",
    "for num in rf_values:\n",
    "    cumulative_sum += num\n",
    "    rf_cumulative_values.append(cumulative_sum)\n",
    "ax2.plot(rf_cumulative_values, color='#009E73')\n",
    "\n",
    "# set axes labels\n",
    "ax1.set_xlabel('Number of sorted features')\n",
    "ax1.set_ylabel('Feature Importance', color='#0072B2')\n",
    "ax2.set_ylabel('Cumulative Feature Importance', color='#009E73')\n",
    "\n",
    "# add vertical lines to show where 10, 15 and 20 features would end up in coverage\n",
    "plt.axvline(x=10, color='#000000')\n",
    "plt.axvline(x=15, color='#000000')\n",
    "plt.axvline(x=20, color='#000000')\n",
    "\n",
    "plt.show()"
   ]
  },
  {
   "cell_type": "markdown",
   "metadata": {},
   "source": [
    "We see, that with the top 10, 15 or 20 features (three black vertical lines), the feature importance is still relatively high and the cumulative is still very low with approx. 0.3. Only with a feature importance of around 50 we cover half of the total feature importance."
   ]
  },
  {
   "cell_type": "markdown",
   "metadata": {},
   "source": [
    "## Evaluation of subset\n",
    "\n",
    "Compute the cross validated f1 score for the selected values when using...\n",
    "- RandomForestClassifier (where we performed the Feature Selection on)\n",
    "- KNNClassifier (the best model of the classification notebook)\n",
    "\n",
    "for a features size of...\n",
    "- 10\n",
    "- 15\n",
    "- 20"
   ]
  },
  {
   "cell_type": "code",
   "execution_count": 10,
   "metadata": {},
   "outputs": [
    {
     "data": {
      "text/html": [
       "<div>\n",
       "<style scoped>\n",
       "    .dataframe tbody tr th:only-of-type {\n",
       "        vertical-align: middle;\n",
       "    }\n",
       "\n",
       "    .dataframe tbody tr th {\n",
       "        vertical-align: top;\n",
       "    }\n",
       "\n",
       "    .dataframe thead th {\n",
       "        text-align: right;\n",
       "    }\n",
       "</style>\n",
       "<table border=\"1\" class=\"dataframe\">\n",
       "  <thead>\n",
       "    <tr style=\"text-align: right;\">\n",
       "      <th></th>\n",
       "      <th>Feature size</th>\n",
       "      <th>RandomForestClassifier</th>\n",
       "      <th>5-NeighborsClassifier</th>\n",
       "    </tr>\n",
       "  </thead>\n",
       "  <tbody>\n",
       "    <tr>\n",
       "      <th>0</th>\n",
       "      <td>10.0</td>\n",
       "      <td>0.823586</td>\n",
       "      <td>0.821131</td>\n",
       "    </tr>\n",
       "    <tr>\n",
       "      <th>1</th>\n",
       "      <td>15.0</td>\n",
       "      <td>0.828268</td>\n",
       "      <td>0.853332</td>\n",
       "    </tr>\n",
       "    <tr>\n",
       "      <th>2</th>\n",
       "      <td>20.0</td>\n",
       "      <td>0.841902</td>\n",
       "      <td>0.865940</td>\n",
       "    </tr>\n",
       "  </tbody>\n",
       "</table>\n",
       "</div>"
      ],
      "text/plain": [
       "   Feature size  RandomForestClassifier  5-NeighborsClassifier\n",
       "0          10.0                0.823586               0.821131\n",
       "1          15.0                0.828268               0.853332\n",
       "2          20.0                0.841902               0.865940"
      ]
     },
     "execution_count": 10,
     "metadata": {},
     "output_type": "execute_result"
    }
   ],
   "source": [
    "from sklearn.ensemble import RandomForestClassifier\n",
    "from sklearn.neighbors import KNeighborsClassifier\n",
    "from sklearn.model_selection import cross_val_score\n",
    "\n",
    "results = pd.DataFrame(columns=['Feature size', 'RandomForestClassifier', '5-NeighborsClassifier'])\n",
    "\n",
    "for feature_size in [10,15,20]:\n",
    "    # get columns with highest feature importance\n",
    "    top_columns = list(rf_sorted_dict.keys())[:feature_size]\n",
    "    subset_data = btvote_data.loc[:, top_columns]\n",
    "\n",
    "    # compute cross validated macro F1 score for RandomForestClassifier and 5-NN\n",
    "    score_rf = cross_val_score(RandomForestClassifier(criterion='gini', n_estimators=50, max_depth=40, random_state=42), subset_data, btvote_target, cv=stratified_10_fold_cv, scoring=f1).mean()\n",
    "    score_knn = cross_val_score(KNeighborsClassifier(), subset_data, btvote_target, cv=stratified_10_fold_cv, scoring=f1).mean()\n",
    "\n",
    "    # save results\n",
    "    results.loc[len(results)] = [feature_size, score_rf, score_knn]\n",
    "\n",
    "# show results\n",
    "results"
   ]
  },
  {
   "cell_type": "markdown",
   "metadata": {},
   "source": [
    "Even though we didn't cover much of the feature importance, as seen in the previous visualization, we still result in good F1 scores. Even though the top features were selected using the RandomForest classifier, the KNN still performs as good or better. The optimal F1 score of the classification in the previous notebook was 0.87 using a 5-NN Classifier. With a feature size of 20 we come close to that score, but for our presentation we would prefer a smaller feature size."
   ]
  },
  {
   "cell_type": "markdown",
   "metadata": {},
   "source": [
    "# DecisionTree analysis\n",
    "\n",
    "We perform the same analysis using the top features selected by the DecisionTree."
   ]
  },
  {
   "cell_type": "markdown",
   "metadata": {},
   "source": [
    "## Feature Importance analysis"
   ]
  },
  {
   "cell_type": "code",
   "execution_count": 11,
   "metadata": {},
   "outputs": [
    {
     "name": "stdout",
     "output_type": "stream",
     "text": [
      "{'vote_19101': 0.3122960245588343, 'vote_19062': 0.1904484949803899, 'vote_19063': 0.1749073278432897, 'vote_19048': 0.1556328762035949, 'vote_19070': 0.029414245523413384, 'vote_19118': 0.014709290994459364, 'vote_19243': 0.014169591639897894, 'vote_19149': 0.012655159592538004, 'vote_19231': 0.010680959766278132, 'vote_19066': 0.009646260319113219, 'vote_19216': 0.008879834491804515, 'vote_19237': 0.006402609541096242, 'vote_19223': 0.005406013044104816, 'vote_19036': 0.005048969608096915, 'vote_19147': 0.0046846590474605805, 'vote_19179': 0.004415435520385655, 'vote_19088': 0.004322289931725115, 'vote_19018': 0.003563791394029909, 'vote_19011': 0.0032957830508539743, 'vote_19015': 0.0029221115031381013, 'vote_19206': 0.0029221115031381013, 'vote_19115': 0.0028772446890956292, 'vote_19174': 0.002704610007749862, 'vote_19102': 0.0024572365115305347, 'vote_19178': 0.0023636275015674587, 'vote_19148': 0.0022102109826868093, 'vote_19151': 0.002101446872631182, 'vote_19154': 0.0019706006344011903, 'vote_19004': 0.0017616557387339629, 'vote_19003': 0.0017353623694991572, 'vote_19160': 0.0017096532973584046, 'vote_19186': 0.001684511337103135, 'vote_19001': 0.0, 'vote_19002': 0.0, 'vote_19005': 0.0, 'vote_19006': 0.0, 'vote_19007': 0.0, 'vote_19008': 0.0, 'vote_19009': 0.0, 'vote_19010': 0.0, 'vote_19012': 0.0, 'vote_19013': 0.0, 'vote_19014': 0.0, 'vote_19016': 0.0, 'vote_19017': 0.0, 'vote_19019': 0.0, 'vote_19020': 0.0, 'vote_19021': 0.0, 'vote_19022': 0.0, 'vote_19023': 0.0, 'vote_19024': 0.0, 'vote_19025': 0.0, 'vote_19026': 0.0, 'vote_19027': 0.0, 'vote_19028': 0.0, 'vote_19029': 0.0, 'vote_19030': 0.0, 'vote_19031': 0.0, 'vote_19032': 0.0, 'vote_19033': 0.0, 'vote_19034': 0.0, 'vote_19035': 0.0, 'vote_19037': 0.0, 'vote_19038': 0.0, 'vote_19039': 0.0, 'vote_19040': 0.0, 'vote_19041': 0.0, 'vote_19042': 0.0, 'vote_19043': 0.0, 'vote_19044': 0.0, 'vote_19045': 0.0, 'vote_19046': 0.0, 'vote_19047': 0.0, 'vote_19049': 0.0, 'vote_19050': 0.0, 'vote_19051': 0.0, 'vote_19052': 0.0, 'vote_19053': 0.0, 'vote_19054': 0.0, 'vote_19055': 0.0, 'vote_19056': 0.0, 'vote_19057': 0.0, 'vote_19058': 0.0, 'vote_19059': 0.0, 'vote_19060': 0.0, 'vote_19061': 0.0, 'vote_19064': 0.0, 'vote_19065': 0.0, 'vote_19067': 0.0, 'vote_19068': 0.0, 'vote_19069': 0.0, 'vote_19071': 0.0, 'vote_19072': 0.0, 'vote_19073': 0.0, 'vote_19074': 0.0, 'vote_19075': 0.0, 'vote_19076': 0.0, 'vote_19077': 0.0, 'vote_19078': 0.0, 'vote_19079': 0.0, 'vote_19080': 0.0, 'vote_19081': 0.0, 'vote_19082': 0.0, 'vote_19083': 0.0, 'vote_19084': 0.0, 'vote_19085': 0.0, 'vote_19086': 0.0, 'vote_19087': 0.0, 'vote_19089': 0.0, 'vote_19090': 0.0, 'vote_19091': 0.0, 'vote_19092': 0.0, 'vote_19093': 0.0, 'vote_19094': 0.0, 'vote_19095': 0.0, 'vote_19096': 0.0, 'vote_19097': 0.0, 'vote_19098': 0.0, 'vote_19099': 0.0, 'vote_19100': 0.0, 'vote_19103': 0.0, 'vote_19104': 0.0, 'vote_19105': 0.0, 'vote_19106': 0.0, 'vote_19107': 0.0, 'vote_19108': 0.0, 'vote_19109': 0.0, 'vote_19110': 0.0, 'vote_19111': 0.0, 'vote_19112': 0.0, 'vote_19113': 0.0, 'vote_19114': 0.0, 'vote_19116': 0.0, 'vote_19117': 0.0, 'vote_19119': 0.0, 'vote_19120': 0.0, 'vote_19121': 0.0, 'vote_19122': 0.0, 'vote_19123': 0.0, 'vote_19124': 0.0, 'vote_19125': 0.0, 'vote_19126': 0.0, 'vote_19127': 0.0, 'vote_19128': 0.0, 'vote_19129': 0.0, 'vote_19130': 0.0, 'vote_19131': 0.0, 'vote_19132': 0.0, 'vote_19133': 0.0, 'vote_19134': 0.0, 'vote_19135': 0.0, 'vote_19136': 0.0, 'vote_19137': 0.0, 'vote_19138': 0.0, 'vote_19139': 0.0, 'vote_19140': 0.0, 'vote_19141': 0.0, 'vote_19142': 0.0, 'vote_19143': 0.0, 'vote_19144': 0.0, 'vote_19145': 0.0, 'vote_19146': 0.0, 'vote_19150': 0.0, 'vote_19152': 0.0, 'vote_19153': 0.0, 'vote_19155': 0.0, 'vote_19156': 0.0, 'vote_19157': 0.0, 'vote_19158': 0.0, 'vote_19159': 0.0, 'vote_19161': 0.0, 'vote_19162': 0.0, 'vote_19163': 0.0, 'vote_19164': 0.0, 'vote_19165': 0.0, 'vote_19166': 0.0, 'vote_19167': 0.0, 'vote_19168': 0.0, 'vote_19169': 0.0, 'vote_19170': 0.0, 'vote_19171': 0.0, 'vote_19172': 0.0, 'vote_19173': 0.0, 'vote_19175': 0.0, 'vote_19176': 0.0, 'vote_19177': 0.0, 'vote_19180': 0.0, 'vote_19181': 0.0, 'vote_19182': 0.0, 'vote_19183': 0.0, 'vote_19184': 0.0, 'vote_19185': 0.0, 'vote_19187': 0.0, 'vote_19188': 0.0, 'vote_19189': 0.0, 'vote_19190': 0.0, 'vote_19191': 0.0, 'vote_19192': 0.0, 'vote_19193': 0.0, 'vote_19194': 0.0, 'vote_19195': 0.0, 'vote_19196': 0.0, 'vote_19197': 0.0, 'vote_19198': 0.0, 'vote_19199': 0.0, 'vote_19200': 0.0, 'vote_19201': 0.0, 'vote_19202': 0.0, 'vote_19203': 0.0, 'vote_19204': 0.0, 'vote_19205': 0.0, 'vote_19207': 0.0, 'vote_19208': 0.0, 'vote_19209': 0.0, 'vote_19210': 0.0, 'vote_19211': 0.0, 'vote_19212': 0.0, 'vote_19213': 0.0, 'vote_19214': 0.0, 'vote_19215': 0.0, 'vote_19217': 0.0, 'vote_19218': 0.0, 'vote_19219': 0.0, 'vote_19220': 0.0, 'vote_19221': 0.0, 'vote_19222': 0.0, 'vote_19224': 0.0, 'vote_19225': 0.0, 'vote_19226': 0.0, 'vote_19227': 0.0, 'vote_19228': 0.0, 'vote_19229': 0.0, 'vote_19230': 0.0, 'vote_19232': 0.0, 'vote_19233': 0.0, 'vote_19234': 0.0, 'vote_19235': 0.0, 'vote_19236': 0.0, 'vote_19238': 0.0, 'vote_19239': 0.0, 'vote_19240': 0.0, 'vote_19241': 0.0, 'vote_19242': 0.0, 'vote_19244': 0.0}\n"
     ]
    }
   ],
   "source": [
    "from sklearn.tree import DecisionTreeClassifier\n",
    "\n",
    "# initialize DecisionTreeClassifier\n",
    "dt_classifier = DecisionTreeClassifier(max_depth=15, random_state=42)\n",
    "\n",
    "# fit the classifier on data\n",
    "dt_classifier.fit(btvote_data, btvote_target)\n",
    "\n",
    "# get feature importances\n",
    "feature_importances = dt_classifier.feature_importances_\n",
    "\n",
    "# convert to dictionary and sort by importance\n",
    "dt_feature_importance_dict = {btvote_data.columns[i]: feature_importances[i] for i in range(len(feature_importances))}\n",
    "dt_sorted_dict = dict(sorted(dt_feature_importance_dict.items(), key=lambda item: item[1], reverse=True))\n",
    "dt_values = [y for _, y in dt_sorted_dict.items()]\n",
    "\n",
    "# Display feature importances\n",
    "print({x:y for x, y in dt_sorted_dict.items()})"
   ]
  },
  {
   "cell_type": "code",
   "execution_count": 12,
   "metadata": {},
   "outputs": [
    {
     "data": {
      "image/png": "[encoded data removed]",
      "text/plain": [
       "<Figure size 640x480 with 2 Axes>"
      ]
     },
     "metadata": {},
     "output_type": "display_data"
    }
   ],
   "source": [
    "# Plot the feature importance\n",
    "fig, ax1 = plt.subplots()\n",
    "ax2 = ax1.twinx()\n",
    "\n",
    "# plot sorted feature importance values\n",
    "ax1.plot(dt_values, color='#0072B2')\n",
    "\n",
    "# calculate and plot cumulative values\n",
    "dt_cumulative_values = []\n",
    "cumulative_sum = 0.0\n",
    "for num in dt_values:\n",
    "    cumulative_sum += num\n",
    "    dt_cumulative_values.append(cumulative_sum)\n",
    "ax2.plot(dt_cumulative_values, color='#009E73')\n",
    "\n",
    "# set axes labels\n",
    "ax1.set_xlabel('Number of sorted features')\n",
    "ax1.set_ylabel('Feature Importance', color='#0072B2')\n",
    "ax2.set_ylabel('Cumulative Feature Importance', color='#009E73')\n",
    "\n",
    "# add vertical lines to show where 5, 10, 15 and 20 features would end up in coverage\n",
    "plt.axvline(x=5, color='#000000')\n",
    "plt.axvline(x=10, color='#000000')\n",
    "plt.axvline(x=15, color='#000000')\n",
    "plt.axvline(x=20, color='#000000')\n",
    "\n",
    "plt.show()"
   ]
  },
  {
   "cell_type": "markdown",
   "metadata": {},
   "source": [
    "We see, that with the top 5 features, we already cover about 90% percent of the overall feature importance. From a feature size of 10 on, there is no large improvement in the cumulative feature importance. The feature importance values are much more unevenly distributed."
   ]
  },
  {
   "cell_type": "markdown",
   "metadata": {},
   "source": [
    "## Evaluation of subset\n",
    "\n",
    "Compute the cross validated f1 score for the selected values when using...\n",
    "- DecisionTreeClassifier (where we performed the Feature Selection on)\n",
    "- KNNClassifier (the best model of the classification notebook)\n",
    "\n",
    "for a features size of...\n",
    "- 5\n",
    "- 6\n",
    "- 7\n",
    "- 8\n",
    "- 9\n",
    "- 10\n",
    "- 15\n",
    "- 20"
   ]
  },
  {
   "cell_type": "code",
   "execution_count": 13,
   "metadata": {},
   "outputs": [
    {
     "data": {
      "text/html": [
       "<div>\n",
       "<style scoped>\n",
       "    .dataframe tbody tr th:only-of-type {\n",
       "        vertical-align: middle;\n",
       "    }\n",
       "\n",
       "    .dataframe tbody tr th {\n",
       "        vertical-align: top;\n",
       "    }\n",
       "\n",
       "    .dataframe thead th {\n",
       "        text-align: right;\n",
       "    }\n",
       "</style>\n",
       "<table border=\"1\" class=\"dataframe\">\n",
       "  <thead>\n",
       "    <tr style=\"text-align: right;\">\n",
       "      <th></th>\n",
       "      <th>Feature size</th>\n",
       "      <th>DecisionTreeClassifier</th>\n",
       "      <th>5-NeighborsClassifier</th>\n",
       "    </tr>\n",
       "  </thead>\n",
       "  <tbody>\n",
       "    <tr>\n",
       "      <th>0</th>\n",
       "      <td>5.0</td>\n",
       "      <td>0.824523</td>\n",
       "      <td>0.824523</td>\n",
       "    </tr>\n",
       "    <tr>\n",
       "      <th>1</th>\n",
       "      <td>6.0</td>\n",
       "      <td>0.836236</td>\n",
       "      <td>0.833826</td>\n",
       "    </tr>\n",
       "    <tr>\n",
       "      <th>2</th>\n",
       "      <td>7.0</td>\n",
       "      <td>0.838328</td>\n",
       "      <td>0.833826</td>\n",
       "    </tr>\n",
       "    <tr>\n",
       "      <th>3</th>\n",
       "      <td>8.0</td>\n",
       "      <td>0.863964</td>\n",
       "      <td>0.869070</td>\n",
       "    </tr>\n",
       "    <tr>\n",
       "      <th>4</th>\n",
       "      <td>9.0</td>\n",
       "      <td>0.865469</td>\n",
       "      <td>0.870342</td>\n",
       "    </tr>\n",
       "    <tr>\n",
       "      <th>5</th>\n",
       "      <td>10.0</td>\n",
       "      <td>0.849179</td>\n",
       "      <td>0.873369</td>\n",
       "    </tr>\n",
       "    <tr>\n",
       "      <th>6</th>\n",
       "      <td>15.0</td>\n",
       "      <td>0.867011</td>\n",
       "      <td>0.871150</td>\n",
       "    </tr>\n",
       "    <tr>\n",
       "      <th>7</th>\n",
       "      <td>20.0</td>\n",
       "      <td>0.867178</td>\n",
       "      <td>0.871256</td>\n",
       "    </tr>\n",
       "  </tbody>\n",
       "</table>\n",
       "</div>"
      ],
      "text/plain": [
       "   Feature size  DecisionTreeClassifier  5-NeighborsClassifier\n",
       "0           5.0                0.824523               0.824523\n",
       "1           6.0                0.836236               0.833826\n",
       "2           7.0                0.838328               0.833826\n",
       "3           8.0                0.863964               0.869070\n",
       "4           9.0                0.865469               0.870342\n",
       "5          10.0                0.849179               0.873369\n",
       "6          15.0                0.867011               0.871150\n",
       "7          20.0                0.867178               0.871256"
      ]
     },
     "execution_count": 13,
     "metadata": {},
     "output_type": "execute_result"
    }
   ],
   "source": [
    "results = pd.DataFrame(columns=['Feature size', 'DecisionTreeClassifier', '5-NeighborsClassifier'])\n",
    "\n",
    "for feature_size in [5,6,7,8,9,10,15,20]:\n",
    "    # get columns with highest feature importance\n",
    "    top_columns = list(dt_sorted_dict.keys())[:feature_size]\n",
    "    subset_data = btvote_data.loc[:, top_columns]\n",
    "\n",
    "    # compute cross validated macro F1 score for RandomForestClassifier and 5-NN\n",
    "    score_dt = cross_val_score(DecisionTreeClassifier(max_depth=15, random_state=42), subset_data, btvote_target, cv=stratified_10_fold_cv, scoring=f1).mean()\n",
    "    score_knn = cross_val_score(KNeighborsClassifier(), subset_data, btvote_target, cv=stratified_10_fold_cv, scoring=f1).mean()\n",
    "\n",
    "    # save results\n",
    "    results.loc[len(results)] = [feature_size, score_dt, score_knn]\n",
    "\n",
    "# show results\n",
    "results"
   ]
  },
  {
   "cell_type": "markdown",
   "metadata": {},
   "source": [
    "Using more than the top 8 features doesn't significantly improve the F1 score. Again, the KNN performs better than the model we selected the top features from.\n",
    "\n",
    "The 5-NN Classifier with the top X features results in an F1 score of 0.87, which is as good as the 5-NN we evaluated on all features in the previous notebook."
   ]
  },
  {
   "cell_type": "markdown",
   "metadata": {},
   "source": [
    "# Comparing features of RandomForest and DecisionTree"
   ]
  },
  {
   "cell_type": "code",
   "execution_count": 15,
   "metadata": {},
   "outputs": [
    {
     "name": "stdout",
     "output_type": "stream",
     "text": [
      "Top 10 features only in RandomForestClassifier:\n",
      "{'vote_19200', 'vote_19221', 'vote_19179', 'vote_19182', 'vote_19040', 'vote_19142', 'vote_19031', 'vote_19106'}\n",
      "Top 10 features only in DecisionTreeClassifier:\n",
      "{'vote_19149', 'vote_19231', 'vote_19066', 'vote_19118', 'vote_19062', 'vote_19101', 'vote_19243', 'vote_19063'}\n",
      "Top 10 features in both:\n",
      "{'vote_19070', 'vote_19048'}\n"
     ]
    }
   ],
   "source": [
    "rf_top_10 = set(list(rf_sorted_dict.keys())[:10])\n",
    "dt_top_10 = set(list(dt_sorted_dict.keys())[:10])\n",
    "\n",
    "print('Top 10 features only in RandomForestClassifier:\\n{}'.format(rf_top_10-dt_top_10))\n",
    "print('Top 10 features only in DecisionTreeClassifier:\\n{}'.format(dt_top_10-rf_top_10))\n",
    "print('Top 10 features in both:\\n{}'.format(rf_top_10.intersection(dt_top_10)))"
   ]
  },
  {
   "cell_type": "markdown",
   "metadata": {},
   "source": [
    "# Create and save reduced dataset"
   ]
  },
  {
   "cell_type": "code",
   "execution_count": 19,
   "metadata": {},
   "outputs": [],
   "source": [
    "# get columns with highest feature importance\n",
    "best_features = list(dt_sorted_dict.keys())[:8] # TODO set final feature size value\n",
    "btvote_data_subset = btvote_data.loc[:, best_features]"
   ]
  },
  {
   "cell_type": "code",
   "execution_count": 20,
   "metadata": {},
   "outputs": [
    {
     "data": {
      "text/html": [
       "<div>\n",
       "<style scoped>\n",
       "    .dataframe tbody tr th:only-of-type {\n",
       "        vertical-align: middle;\n",
       "    }\n",
       "\n",
       "    .dataframe tbody tr th {\n",
       "        vertical-align: top;\n",
       "    }\n",
       "\n",
       "    .dataframe thead th {\n",
       "        text-align: right;\n",
       "    }\n",
       "</style>\n",
       "<table border=\"1\" class=\"dataframe\">\n",
       "  <thead>\n",
       "    <tr style=\"text-align: right;\">\n",
       "      <th></th>\n",
       "      <th>vote_19101</th>\n",
       "      <th>vote_19062</th>\n",
       "      <th>vote_19063</th>\n",
       "      <th>vote_19048</th>\n",
       "      <th>vote_19070</th>\n",
       "      <th>vote_19118</th>\n",
       "      <th>vote_19243</th>\n",
       "      <th>vote_19149</th>\n",
       "      <th>party</th>\n",
       "    </tr>\n",
       "  </thead>\n",
       "  <tbody>\n",
       "    <tr>\n",
       "      <th>0</th>\n",
       "      <td>1.0</td>\n",
       "      <td>1.0</td>\n",
       "      <td>0.0</td>\n",
       "      <td>0.0</td>\n",
       "      <td>1.0</td>\n",
       "      <td>1.0</td>\n",
       "      <td>1.0</td>\n",
       "      <td>1.0</td>\n",
       "      <td>1</td>\n",
       "    </tr>\n",
       "    <tr>\n",
       "      <th>1</th>\n",
       "      <td>1.0</td>\n",
       "      <td>1.0</td>\n",
       "      <td>0.0</td>\n",
       "      <td>0.0</td>\n",
       "      <td>1.0</td>\n",
       "      <td>1.0</td>\n",
       "      <td>1.0</td>\n",
       "      <td>0.0</td>\n",
       "      <td>5</td>\n",
       "    </tr>\n",
       "    <tr>\n",
       "      <th>2</th>\n",
       "      <td>0.0</td>\n",
       "      <td>1.0</td>\n",
       "      <td>1.0</td>\n",
       "      <td>0.5</td>\n",
       "      <td>0.0</td>\n",
       "      <td>0.0</td>\n",
       "      <td>0.0</td>\n",
       "      <td>0.0</td>\n",
       "      <td>4</td>\n",
       "    </tr>\n",
       "    <tr>\n",
       "      <th>3</th>\n",
       "      <td>1.0</td>\n",
       "      <td>1.0</td>\n",
       "      <td>0.0</td>\n",
       "      <td>0.0</td>\n",
       "      <td>1.0</td>\n",
       "      <td>1.0</td>\n",
       "      <td>1.0</td>\n",
       "      <td>1.0</td>\n",
       "      <td>1</td>\n",
       "    </tr>\n",
       "    <tr>\n",
       "      <th>4</th>\n",
       "      <td>0.0</td>\n",
       "      <td>1.0</td>\n",
       "      <td>1.0</td>\n",
       "      <td>0.5</td>\n",
       "      <td>0.0</td>\n",
       "      <td>0.0</td>\n",
       "      <td>0.0</td>\n",
       "      <td>0.0</td>\n",
       "      <td>4</td>\n",
       "    </tr>\n",
       "    <tr>\n",
       "      <th>...</th>\n",
       "      <td>...</td>\n",
       "      <td>...</td>\n",
       "      <td>...</td>\n",
       "      <td>...</td>\n",
       "      <td>...</td>\n",
       "      <td>...</td>\n",
       "      <td>...</td>\n",
       "      <td>...</td>\n",
       "      <td>...</td>\n",
       "    </tr>\n",
       "    <tr>\n",
       "      <th>740</th>\n",
       "      <td>0.0</td>\n",
       "      <td>1.0</td>\n",
       "      <td>0.0</td>\n",
       "      <td>0.5</td>\n",
       "      <td>1.0</td>\n",
       "      <td>0.0</td>\n",
       "      <td>0.0</td>\n",
       "      <td>0.0</td>\n",
       "      <td>2</td>\n",
       "    </tr>\n",
       "    <tr>\n",
       "      <th>741</th>\n",
       "      <td>0.0</td>\n",
       "      <td>1.0</td>\n",
       "      <td>1.0</td>\n",
       "      <td>1.0</td>\n",
       "      <td>0.0</td>\n",
       "      <td>0.0</td>\n",
       "      <td>0.0</td>\n",
       "      <td>1.0</td>\n",
       "      <td>3</td>\n",
       "    </tr>\n",
       "    <tr>\n",
       "      <th>742</th>\n",
       "      <td>1.0</td>\n",
       "      <td>1.0</td>\n",
       "      <td>0.0</td>\n",
       "      <td>0.0</td>\n",
       "      <td>1.0</td>\n",
       "      <td>1.0</td>\n",
       "      <td>1.0</td>\n",
       "      <td>1.0</td>\n",
       "      <td>1</td>\n",
       "    </tr>\n",
       "    <tr>\n",
       "      <th>743</th>\n",
       "      <td>0.0</td>\n",
       "      <td>1.0</td>\n",
       "      <td>1.0</td>\n",
       "      <td>0.5</td>\n",
       "      <td>1.0</td>\n",
       "      <td>0.0</td>\n",
       "      <td>0.0</td>\n",
       "      <td>1.0</td>\n",
       "      <td>0</td>\n",
       "    </tr>\n",
       "    <tr>\n",
       "      <th>744</th>\n",
       "      <td>0.0</td>\n",
       "      <td>1.0</td>\n",
       "      <td>1.0</td>\n",
       "      <td>0.5</td>\n",
       "      <td>0.0</td>\n",
       "      <td>0.0</td>\n",
       "      <td>0.0</td>\n",
       "      <td>1.0</td>\n",
       "      <td>4</td>\n",
       "    </tr>\n",
       "  </tbody>\n",
       "</table>\n",
       "<p>745 rows × 9 columns</p>\n",
       "</div>"
      ],
      "text/plain": [
       "     vote_19101  vote_19062  vote_19063  vote_19048  vote_19070  vote_19118  \\\n",
       "0           1.0         1.0         0.0         0.0         1.0         1.0   \n",
       "1           1.0         1.0         0.0         0.0         1.0         1.0   \n",
       "2           0.0         1.0         1.0         0.5         0.0         0.0   \n",
       "3           1.0         1.0         0.0         0.0         1.0         1.0   \n",
       "4           0.0         1.0         1.0         0.5         0.0         0.0   \n",
       "..          ...         ...         ...         ...         ...         ...   \n",
       "740         0.0         1.0         0.0         0.5         1.0         0.0   \n",
       "741         0.0         1.0         1.0         1.0         0.0         0.0   \n",
       "742         1.0         1.0         0.0         0.0         1.0         1.0   \n",
       "743         0.0         1.0         1.0         0.5         1.0         0.0   \n",
       "744         0.0         1.0         1.0         0.5         0.0         0.0   \n",
       "\n",
       "     vote_19243  vote_19149  party  \n",
       "0           1.0         1.0      1  \n",
       "1           1.0         0.0      5  \n",
       "2           0.0         0.0      4  \n",
       "3           1.0         1.0      1  \n",
       "4           0.0         0.0      4  \n",
       "..          ...         ...    ...  \n",
       "740         0.0         0.0      2  \n",
       "741         0.0         1.0      3  \n",
       "742         1.0         1.0      1  \n",
       "743         0.0         1.0      0  \n",
       "744         0.0         1.0      4  \n",
       "\n",
       "[745 rows x 9 columns]"
      ]
     },
     "execution_count": 20,
     "metadata": {},
     "output_type": "execute_result"
    }
   ],
   "source": [
    "# get columns with highest feature importance\n",
    "btvote_subset = btvote_data_subset.copy()\n",
    "\n",
    "# add target variable 'party'\n",
    "btvote_subset['party'] = btvote_target\n",
    "\n",
    "btvote_subset"
   ]
  },
  {
   "cell_type": "markdown",
   "metadata": {},
   "source": [
    "# Further 5-NN analysis"
   ]
  },
  {
   "cell_type": "code",
   "execution_count": 21,
   "metadata": {},
   "outputs": [],
   "source": [
    "# define the best model again (n_neighbors=5 is default)\n",
    "best_model = KNeighborsClassifier()"
   ]
  },
  {
   "cell_type": "markdown",
   "metadata": {},
   "source": [
    "Calculate accuracy, precision and recall in addition to the F1-score:"
   ]
  },
  {
   "cell_type": "code",
   "execution_count": 22,
   "metadata": {},
   "outputs": [
    {
     "name": "stdout",
     "output_type": "stream",
     "text": [
      "Mean values for each score:\n",
      "- Accuracy: 0.8066486486486486\n",
      "- Precision: 0.8769068244301087\n",
      "- Recall: 0.8689151942828414\n",
      "- F1-score: 0.8690700204322377\n"
     ]
    }
   ],
   "source": [
    "from sklearn.model_selection import cross_validate\n",
    "from sklearn.metrics import make_scorer, accuracy_score, precision_score, recall_score, f1_score\n",
    "\n",
    "# Define the scorers\n",
    "scoring = {\n",
    "    'accuracy': make_scorer(accuracy_score),\n",
    "    'precision': make_scorer(precision_score, average='macro'),\n",
    "    'recall': make_scorer(recall_score, average='macro'),\n",
    "    'f1_score': make_scorer(f1_score, average='macro')\n",
    "}\n",
    "\n",
    "# Perform cross-validation with multiple scoring metrics\n",
    "cv_results = cross_validate(best_model, btvote_data_subset, btvote_target, cv=stratified_10_fold_cv, scoring=scoring)\n",
    "\n",
    "# Print the results for each metric\n",
    "print('Mean values for each score:')\n",
    "print('- Accuracy:', cv_results['test_accuracy'].mean())\n",
    "print('- Precision:', cv_results['test_precision'].mean())\n",
    "print('- Recall:', cv_results['test_recall'].mean())\n",
    "print('- F1-score:', cv_results['test_f1_score'].mean())"
   ]
  },
  {
   "cell_type": "markdown",
   "metadata": {},
   "source": [
    "We see that the results for all scores are more or less the same as when we used all features in the previous notebook."
   ]
  },
  {
   "cell_type": "markdown",
   "metadata": {},
   "source": [
    "Plot confusion matrix for different train/test-split combinations:"
   ]
  },
  {
   "cell_type": "code",
   "execution_count": 23,
   "metadata": {},
   "outputs": [
    {
     "data": {
      "image/png": "[encoded data removed]",
      "text/plain": [
       "<Figure size 1500x1000 with 6 Axes>"
      ]
     },
     "metadata": {},
     "output_type": "display_data"
    }
   ],
   "source": [
    "from sklearn.metrics import confusion_matrix\n",
    "from sklearn.metrics import ConfusionMatrixDisplay\n",
    "from sklearn.model_selection import train_test_split\n",
    "\n",
    "fig, axs = plt.subplots(2, 3, sharex=True, sharey=True, figsize=(15,10))\n",
    "\n",
    "# define a list of random states\n",
    "random_states = [12,22,32,42,52,62]\n",
    "\n",
    "for ax, random_state in zip(axs.flatten(), random_states):\n",
    "    \n",
    "    # Create train and test split\n",
    "    btvote_data_train, btvote_data_test, btvote_target_train, btvote_target_test = train_test_split(btvote_data_subset, btvote_target, random_state=random_state)\n",
    "\n",
    "    # fit classifier\n",
    "    best_model.fit(btvote_data_train, btvote_target_train)\n",
    "\n",
    "    # predict test data\n",
    "    prediction = best_model.predict(btvote_data_test)\n",
    "\n",
    "    # plot confusion matrix\n",
    "    ConfusionMatrixDisplay(confusion_matrix(btvote_target_test, prediction), display_labels=label_encoder.classes_).plot(ax=ax, colorbar=False)\n",
    "\n",
    "    # add random state as information\n",
    "    ax.set_title('random state: {}'.format(random_state))\n",
    "\n",
    "plt.show()"
   ]
  },
  {
   "cell_type": "markdown",
   "metadata": {},
   "source": [
    "For six random train/test examples, we see again that the difficulty always lies with differentiating between CDU/CDU and SPD. This is the same Understanding we received when evaluating on all features."
   ]
  }
 ],
 "metadata": {
  "kernelspec": {
   "display_name": "Python 3",
   "language": "python",
   "name": "python3"
  },
  "language_info": {
   "codemirror_mode": {
    "name": "ipython",
    "version": 3
   },
   "file_extension": ".py",
   "mimetype": "text/x-python",
   "name": "python",
   "nbconvert_exporter": "python",
   "pygments_lexer": "ipython3",
   "version": "3.10.7"
  }
 },
 "nbformat": 4,
 "nbformat_minor": 2
}
